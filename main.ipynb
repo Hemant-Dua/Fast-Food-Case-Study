{
 "cells": [
  {
   "cell_type": "markdown",
   "metadata": {},
   "source": [
    "# Step-1: Collection of Data\n",
    "The data set contains responses from 1453 adult Australian consumers relating to\n",
    "their perceptions of McDonald’s with respect to the following attributes: YUMMY,\n",
    "CONVENIENT, SPICY, FATTENING, GREASY, FAST, CHEAP, TASTY, EXPENSIVE, HEALTHY, and DISGUSTING.\n",
    "\n",
    "Source: https://homepage.boku.ac.at/leisch/MSA/datasets/mcdonalds.csv"
   ]
  }
 ],
 "metadata": {
  "kernelspec": {
   "display_name": "Python 3",
   "language": "python",
   "name": "python3"
  },
  "language_info": {
   "name": "python",
   "version": "3.11.7"
  }
 },
 "nbformat": 4,
 "nbformat_minor": 2
}
